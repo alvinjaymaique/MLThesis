{
 "cells": [
  {
   "cell_type": "code",
   "execution_count": 2,
   "id": "c5094f04-46e1-439a-b071-19dd7025d20a",
   "metadata": {},
   "outputs": [],
   "source": [
    "import numpy as np\n",
    "\n",
    "\"\"\" Clustering Algorithm \"\"\"\n",
    "from sklearn.cluster import KMeans, SpectralClustering, AgglomerativeClustering\n",
    "from sklearn.mixture import GaussianMixture"
   ]
  },
  {
   "cell_type": "code",
   "execution_count": 5,
   "id": "c3f8dfa1-2437-4e3f-911f-157996e412b7",
   "metadata": {},
   "outputs": [],
   "source": [
    "\"\"\" The clustering algorithm inside the dictionary datatype or a key-value pair data structure \"\"\"\n",
    "CLUSTERS_DICT = {\n",
    "    'kmeans': KMeans(),\n",
    "    'spectral': SpectralClustering(random_state=42),\n",
    "    'hierarchical': AgglomerativeClustering(linkage='ward'),\n",
    "    'agglomerative': AgglomerativeClustering(),\n",
    "    'gaussian': GaussianMixture(random_state=42)\n",
    "}"
   ]
  },
  {
   "cell_type": "code",
   "execution_count": null,
   "id": "758326e5-6f0a-4eb1-b2b5-0e0bc378d974",
   "metadata": {},
   "outputs": [],
   "source": []
  }
 ],
 "metadata": {
  "kernelspec": {
   "display_name": "Python 3 (ipykernel)",
   "language": "python",
   "name": "python3"
  },
  "language_info": {
   "codemirror_mode": {
    "name": "ipython",
    "version": 3
   },
   "file_extension": ".py",
   "mimetype": "text/x-python",
   "name": "python",
   "nbconvert_exporter": "python",
   "pygments_lexer": "ipython3",
   "version": "3.10.0"
  }
 },
 "nbformat": 4,
 "nbformat_minor": 5
}
