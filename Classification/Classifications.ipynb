{
 "cells": [
  {
   "cell_type": "code",
   "execution_count": 2,
   "id": "e8cb1af5-5046-4a8e-b482-1d56df6c1d52",
   "metadata": {},
   "outputs": [],
   "source": [
    "import numpy as np\n",
    "from sklearn.tree import DecisionTreeClassifier"
   ]
  },
  {
   "cell_type": "code",
   "execution_count": 4,
   "id": "027eb20b-6ceb-4f6e-87a1-648dfe137c57",
   "metadata": {},
   "outputs": [],
   "source": [
    "X = np.array([[0,0], [1,1]])\n",
    "Y = np.array([0,1])"
   ]
  },
  {
   "cell_type": "code",
   "execution_count": 11,
   "id": "ff91e57c-2301-4adf-885e-b567ff25cf7a",
   "metadata": {},
   "outputs": [],
   "source": [
    "model = DecisionTreeClassifier()\n",
    "model = model.fit(X, Y)"
   ]
  },
  {
   "cell_type": "code",
   "execution_count": 16,
   "id": "3ce698b1-3580-4bcd-93a2-63435de3539e",
   "metadata": {},
   "outputs": [
    {
     "data": {
      "text/plain": [
       "array([1])"
      ]
     },
     "execution_count": 16,
     "metadata": {},
     "output_type": "execute_result"
    }
   ],
   "source": [
    "new_data = np.array([[1.,0.]])\n",
    "y_pred = model.predict(new_data)\n",
    "y_pred"
   ]
  },
  {
   "cell_type": "code",
   "execution_count": null,
   "id": "2c755447-190c-4d6d-a82a-573bace8594b",
   "metadata": {},
   "outputs": [],
   "source": []
  }
 ],
 "metadata": {
  "kernelspec": {
   "display_name": "Python 3 (ipykernel)",
   "language": "python",
   "name": "python3"
  },
  "language_info": {
   "codemirror_mode": {
    "name": "ipython",
    "version": 3
   },
   "file_extension": ".py",
   "mimetype": "text/x-python",
   "name": "python",
   "nbconvert_exporter": "python",
   "pygments_lexer": "ipython3",
   "version": "3.10.0"
  }
 },
 "nbformat": 4,
 "nbformat_minor": 5
}
