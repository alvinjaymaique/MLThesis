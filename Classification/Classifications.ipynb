{
 "cells": [
  {
   "cell_type": "code",
   "execution_count": 90,
   "id": "e8cb1af5-5046-4a8e-b482-1d56df6c1d52",
   "metadata": {},
   "outputs": [],
   "source": [
    "import numpy as np\n",
    "from sklearn.tree import DecisionTreeClassifier\n",
    "from sklearn.linear_model import LogisticRegression\n",
    "from sklearn.ensemble import RandomForestClassifier\n",
    "from sklearn.svm import SVC\n",
    "from sklearn.ensemble import HistGradientBoostingClassifier\n",
    "from sklearn.neural_network import MLPClassifier\n",
    "\n",
    "from sklearn.model_selection import train_test_split\n",
    "from sklearn.datasets import make_classification"
   ]
  },
  {
   "cell_type": "code",
   "execution_count": 91,
   "id": "084faed3-eccc-441e-982a-00740e4b40a0",
   "metadata": {},
   "outputs": [],
   "source": [
    "X, y = make_classification(n_samples=200, n_features=5, n_informative=3, n_classes=2, random_state=42)"
   ]
  },
  {
   "cell_type": "code",
   "execution_count": 92,
   "id": "25e10318-7a7c-4b34-8ba7-a444b2f2c2ba",
   "metadata": {},
   "outputs": [
    {
     "name": "stdout",
     "output_type": "stream",
     "text": [
      "[-1.79983143  1.68597565 -1.20702816 -0.96551186  1.90648417]\n"
     ]
    }
   ],
   "source": [
    "print(X[0,:])"
   ]
  },
  {
   "cell_type": "code",
   "execution_count": 93,
   "id": "89f16d6d-edb1-43c2-9c39-47634ddad88d",
   "metadata": {},
   "outputs": [
    {
     "name": "stdout",
     "output_type": "stream",
     "text": [
      "[0 0 1 1 0 0 1 0 1 1 0 0 0 0 0 1 0 1 0 0 1 1 0 1 0 1 0 1 0 0 0 1 1 0 0 0 0\n",
      " 0 1 1 0 0 0 0 1 1 0 0 1 1 1 1 1 1 1 0 1 1 0 1 0 1 1 1 0 1 0 0 0 1 0 0 1 0\n",
      " 1 0 1 0 1 1 1 1 1 1 1 0 1 1 0 0 0 1 0 1 0 0 0 0 0 1 1 0 0 0 0 0 0 0 1 1 0\n",
      " 0 1 0 0 0 0 1 0 1 0 1 1 1 1 1 0 1 1 1 0 0 1 1 1 0 1 0 1 1 0 1 1 1 1 0 0 1\n",
      " 0 1 1 0 0 1 1 0 0 1 0 1 1 0 1 0 1 0 1 0 1 1 0 1 0 1 1 0 0 0 0 1 1 1 0 0 1\n",
      " 0 0 1 1 0 0 0 1 0 1 0 1 1 1 1]\n"
     ]
    }
   ],
   "source": [
    "print(y)"
   ]
  },
  {
   "cell_type": "code",
   "execution_count": 108,
   "id": "07e5cc5e-723c-4005-90f1-56c722691b6b",
   "metadata": {},
   "outputs": [],
   "source": [
    "MODELS_DICT = {\n",
    "    \"dt\": DecisionTreeClassifier(),      \n",
    "    \"lr\": LogisticRegression(),          \n",
    "    \"rf\": RandomForestClassifier(),      \n",
    "    \"hgb\": HistGradientBoostingClassifier(), \n",
    "    \"mlp\": MLPClassifier(max_iter=1000),    \n",
    "    \"svc\": SVC()                         \n",
    "}"
   ]
  },
  {
   "cell_type": "code",
   "execution_count": 110,
   "id": "c89c8227-7c2a-4945-b548-1e9bbc06ab4d",
   "metadata": {},
   "outputs": [],
   "source": [
    "class Model:\n",
    "    def __init__(self, data_X, data_y, model, test_size=0.2, random_state=42):\n",
    "        # print(data_X.shape)\n",
    "        self.X_train, self.X_test, self.y_train, self.y_test = train_test_split(data_X, data_y, test_size=test_size, random_state=random_state)\n",
    "        self.model = model\n",
    "        self.model.fit(self.X_train, self.y_train)\n",
    "\n",
    "    def predict(self, new_data_X):\n",
    "        return self.model.predict(new_data_X)\n",
    "\n",
    "    def accuracy(self):\n",
    "        return self.model.score(self.X_test, self.y_test)\n",
    "\n",
    "    def get_model(self):\n",
    "        return self.model\n"
   ]
  },
  {
   "cell_type": "code",
   "execution_count": 111,
   "id": "027eb20b-6ceb-4f6e-87a1-648dfe137c57",
   "metadata": {},
   "outputs": [
    {
     "data": {
      "text/plain": [
       "(1, 5)"
      ]
     },
     "execution_count": 111,
     "metadata": {},
     "output_type": "execute_result"
    }
   ],
   "source": [
    "# X = np.array([[0,0], [1,1]])\n",
    "# y = np.array([0,1])\n",
    "new_x = np.array([[0,1,0.5,2,0.3]])\n",
    "new_x.shape"
   ]
  },
  {
   "cell_type": "code",
   "execution_count": 112,
   "id": "ff91e57c-2301-4adf-885e-b567ff25cf7a",
   "metadata": {},
   "outputs": [
    {
     "name": "stdout",
     "output_type": "stream",
     "text": [
      "Prediction: 0; Accuracy: 0.97;\n"
     ]
    }
   ],
   "source": [
    "model = Model(X, y, MODELS_DICT['dt'])\n",
    "new_y = model.predict(new_x)\n",
    "accuracy = model.accuracy()\n",
    "print(f'Prediction: {new_y[0]}; Accuracy: {accuracy:.2f};')"
   ]
  },
  {
   "cell_type": "code",
   "execution_count": 113,
   "id": "2c755447-190c-4d6d-a82a-573bace8594b",
   "metadata": {},
   "outputs": [
    {
     "name": "stdout",
     "output_type": "stream",
     "text": [
      "Prediction: 1; Accuracy: 0.95;\n"
     ]
    }
   ],
   "source": [
    "model = Model(X, y, MODELS_DICT['lr'])\n",
    "new_y = model.predict(new_x)\n",
    "accuracy = model.accuracy()\n",
    "print(f'Prediction: {new_y[0]}; Accuracy: {accuracy:.2f};')"
   ]
  },
  {
   "cell_type": "code",
   "execution_count": 114,
   "id": "dc346014-97c9-4cda-bdbb-1cf4669e24be",
   "metadata": {},
   "outputs": [
    {
     "name": "stdout",
     "output_type": "stream",
     "text": [
      "Prediction: 1; Accuracy: 0.97;\n"
     ]
    }
   ],
   "source": [
    "model = Model(X, y, MODELS_DICT['rf'])\n",
    "new_y = model.predict(new_x)\n",
    "accuracy = model.accuracy()\n",
    "print(f'Prediction: {new_y[0]}; Accuracy: {accuracy:.2f};')"
   ]
  },
  {
   "cell_type": "code",
   "execution_count": 115,
   "id": "173a49ec-49e8-47c5-ace0-8c10578c7784",
   "metadata": {},
   "outputs": [
    {
     "name": "stdout",
     "output_type": "stream",
     "text": [
      "Prediction: 1; Accuracy: 0.95;\n"
     ]
    }
   ],
   "source": [
    "model = Model(X, y, MODELS_DICT['hgb'])\n",
    "new_y = model.predict(new_x)\n",
    "accuracy = model.accuracy()\n",
    "print(f'Prediction: {new_y[0]}; Accuracy: {accuracy:.2f};')"
   ]
  },
  {
   "cell_type": "code",
   "execution_count": 116,
   "id": "c6100855-7176-48a5-86e8-d538f7ade5f2",
   "metadata": {},
   "outputs": [
    {
     "name": "stdout",
     "output_type": "stream",
     "text": [
      "Prediction: 1; Accuracy: 0.97;\n"
     ]
    }
   ],
   "source": [
    "model = Model(X, y, MODELS_DICT['mlp'])\n",
    "new_y = model.predict(new_x)\n",
    "accuracy = model.accuracy()\n",
    "print(f'Prediction: {new_y[0]}; Accuracy: {accuracy:.2f};')"
   ]
  },
  {
   "cell_type": "code",
   "execution_count": null,
   "id": "96cdac53-2c13-46f4-86a6-daf0967d133f",
   "metadata": {},
   "outputs": [],
   "source": []
  }
 ],
 "metadata": {
  "kernelspec": {
   "display_name": "Python 3 (ipykernel)",
   "language": "python",
   "name": "python3"
  },
  "language_info": {
   "codemirror_mode": {
    "name": "ipython",
    "version": 3
   },
   "file_extension": ".py",
   "mimetype": "text/x-python",
   "name": "python",
   "nbconvert_exporter": "python",
   "pygments_lexer": "ipython3",
   "version": "3.10.0"
  }
 },
 "nbformat": 4,
 "nbformat_minor": 5
}
