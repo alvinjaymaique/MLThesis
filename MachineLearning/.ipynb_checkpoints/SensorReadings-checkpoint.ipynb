{
 "cells": [
  {
   "cell_type": "code",
   "execution_count": 1,
   "id": "93578b44-3c72-47bd-b5da-40309e880e7b",
   "metadata": {},
   "outputs": [],
   "source": [
    "# import firebase_admin\n",
    "# import pandas as pd\n",
    "# from firebase_admin import credentials, firestore\n",
    "\n",
    "# if not firebase_admin._apps:\n",
    "#     cred = credentials.Certificate(\"powerquality-d9f8e-firebase-adminsdk-fbsvc-56b01c5419.json\")\n",
    "#     firebase_admin.initialize_app(cred)\n",
    "\n",
    "# db = firestore.client()"
   ]
  },
  {
   "cell_type": "code",
   "execution_count": 2,
   "id": "519a06b7-7e8c-458a-8d50-d03111237bed",
   "metadata": {},
   "outputs": [
    {
     "name": "stdout",
     "output_type": "stream",
     "text": [
      "                                                    06  \\\n",
      "C-2  {'02': {'2025': {'12:01:33': {'current': 0.039...   \n",
      "C-4  {'02': {'2025': {'16:15:31': {'current': 0, 'd...   \n",
      "C-3                                                NaN   \n",
      "C-6                                                NaN   \n",
      "C-8                                                NaN   \n",
      "C-5                                                NaN   \n",
      "\n",
      "                                                    11  \\\n",
      "C-2  {'02': {'2025': {'16:17:37': {'current': 0, 'd...   \n",
      "C-4                                                NaN   \n",
      "C-3  {'02': {'2025': {'16:05:16': {'current': 0, 'd...   \n",
      "C-6  {'02': {'2025': {'00:00:00': {'current': 0.093...   \n",
      "C-8  {'02': {'2025': {'00:00:00': {'current': 0, 'd...   \n",
      "C-5                                                NaN   \n",
      "\n",
      "                                                    12  current date  \\\n",
      "C-2  {'02': {'2025': {'00:00:00': {'current': 0.093...      0.0        \n",
      "C-4                                                NaN      NaN  NaN   \n",
      "C-3  {'02': {'2025': {'00:00:00': {'current': 0, 'd...      0.0        \n",
      "C-6                                                NaN      0.0        \n",
      "C-8                                                NaN      0.0        \n",
      "C-5                                                NaN      NaN  NaN   \n",
      "\n",
      "     frequency  power  powerFactor time  voltage  \\\n",
      "C-2        0.0    0.0          0.0           0.0   \n",
      "C-4        NaN    NaN          NaN  NaN      NaN   \n",
      "C-3        0.0    0.0          0.0           0.0   \n",
      "C-6        0.0    0.0          0.0           0.0   \n",
      "C-8        0.0    0.0          0.0           0.0   \n",
      "C-5        NaN    NaN          NaN  NaN      NaN   \n",
      "\n",
      "                                                    08  \\\n",
      "C-2                                                NaN   \n",
      "C-4                                                NaN   \n",
      "C-3                                                NaN   \n",
      "C-6  {'02': {'2025': {'11:41:04': {'current': 0, 'd...   \n",
      "C-8  {'02': {'2025': {'10:35:23': {'current': 1.613...   \n",
      "C-5  {'02': {'2025': {'11:19:28': {'current': 0, 'd...   \n",
      "\n",
      "                                                    09  \\\n",
      "C-2                                                NaN   \n",
      "C-4                                                NaN   \n",
      "C-3                                                NaN   \n",
      "C-6  {'02': {'2025': {'00:00:00': {'current': 0.093...   \n",
      "C-8  {'02': {'2025': {'00:00:00': {'current': 0, 'd...   \n",
      "C-5                                                NaN   \n",
      "\n",
      "                                                    10  \\\n",
      "C-2                                                NaN   \n",
      "C-4                                                NaN   \n",
      "C-3                                                NaN   \n",
      "C-6  {'02': {'2025': {'00:00:00': {'current': 0.093...   \n",
      "C-8  {'02': {'2025': {'00:00:00': {'current': 0, 'd...   \n",
      "C-5                                                NaN   \n",
      "\n",
      "                                                    07  \n",
      "C-2                                                NaN  \n",
      "C-4                                                NaN  \n",
      "C-3                                                NaN  \n",
      "C-6                                                NaN  \n",
      "C-8  {'02': {'2025': {'11:26:49': {'current': 0, 'd...  \n",
      "C-5                                                NaN  \n"
     ]
    }
   ],
   "source": [
    "import firebase_admin\n",
    "import pandas as pd\n",
    "from firebase_admin import credentials, db\n",
    "\n",
    "# ✅ Initialize Firebase (Only run once)\n",
    "if not firebase_admin._apps:\n",
    "    cred = credentials.Certificate(\"powerquality-d9f8e-firebase-adminsdk-fbsvc-56b01c5419.json\")\n",
    "    firebase_admin.initialize_app(cred, {\n",
    "        'databaseURL': 'https://powerquality-d9f8e-default-rtdb.asia-southeast1.firebasedatabase.app'\n",
    "    })\n",
    "\n",
    "# ✅ Reference the node \"C-8\" in RTDB\n",
    "ref = db.reference(\"/\")\n",
    "\n",
    "# ✅ Get data\n",
    "data = ref.get()\n",
    "\n",
    "# ✅ Convert to DataFrame (if data exists)\n",
    "if data:\n",
    "    df = pd.DataFrame.from_dict(data, orient=\"index\")\n",
    "    print(df)\n",
    "else:\n",
    "    print(\"No data found in Realtime Database 'C-8'.\")\n"
   ]
  },
  {
   "cell_type": "code",
   "execution_count": 27,
   "id": "e7496450-9f06-4871-b116-64e264cf5465",
   "metadata": {},
   "outputs": [],
   "source": [
    "# df = df.iloc[[4]].drop(columns=['current', 'date', 'frequency', 'power', 'powerFactor', 'time', 'voltage'])\n",
    "# df.head()"
   ]
  },
  {
   "cell_type": "code",
   "execution_count": 30,
   "id": "0edd34e8-65dd-497e-bea3-ec682453143e",
   "metadata": {},
   "outputs": [],
   "source": [
    "new_df = df.copy()"
   ]
  },
  {
   "cell_type": "code",
   "execution_count": 31,
   "id": "5ea1aaa2-3a2e-4360-85a8-3d9e14df3834",
   "metadata": {},
   "outputs": [
    {
     "data": {
      "text/plain": [
       "(1, 7)"
      ]
     },
     "execution_count": 31,
     "metadata": {},
     "output_type": "execute_result"
    }
   ],
   "source": [
    "new_df.shape"
   ]
  },
  {
   "cell_type": "code",
   "execution_count": 37,
   "id": "d37327a9-5704-4b9e-b24c-892edb96257c",
   "metadata": {},
   "outputs": [
    {
     "data": {
      "text/plain": [
       "C-8    {'02': {'2025': {'00:00:00': {'current': 0, 'd...\n",
       "Name: 11, dtype: object"
      ]
     },
     "execution_count": 37,
     "metadata": {},
     "output_type": "execute_result"
    }
   ],
   "source": [
    "feb11 = new_df.iloc[:,1]"
   ]
  },
  {
   "cell_type": "code",
   "execution_count": null,
   "id": "3873e687-c7d0-4f2f-a352-3071b84de132",
   "metadata": {},
   "outputs": [],
   "source": []
  }
 ],
 "metadata": {
  "kernelspec": {
   "display_name": "Python 3 (ipykernel)",
   "language": "python",
   "name": "python3"
  },
  "language_info": {
   "codemirror_mode": {
    "name": "ipython",
    "version": 3
   },
   "file_extension": ".py",
   "mimetype": "text/x-python",
   "name": "python",
   "nbconvert_exporter": "python",
   "pygments_lexer": "ipython3",
   "version": "3.10.0"
  }
 },
 "nbformat": 4,
 "nbformat_minor": 5
}
